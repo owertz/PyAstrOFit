{
 "cells": [
  {
   "cell_type": "markdown",
   "metadata": {},
   "source": [
    "# PyAstrOFit: the sampler module"
   ]
  },
  {
   "cell_type": "markdown",
   "metadata": {},
   "source": [
    "To constrain the planet orbits, we've adopted a robust statistical approach using the Markok chain Monte Carlo (MCMC) Bayesian analysis technique (see e.g. Ford 2005, Ford 2006, Goodman & Wear 2010). The MCMC part of PyAstrOFit makes direct use of the emcee package (Foreman-Mackey et al. 2013).\n",
    "\n",
    "We present here different methods related to the -sampler- module, part of the PyAstrOFit package. Futhermore, this notebook shows you how to use it with several examples."
   ]
  },
  {
   "cell_type": "markdown",
   "metadata": {},
   "source": [
    "## User guide"
   ]
  },
  {
   "cell_type": "markdown",
   "metadata": {},
   "source": [
    "1. [Basic Usage](#basic_usage)\n",
    "2. [Quickstart](#quickstart)\n",
    "  1. [Import](#import)\n",
    "  2. [Before starting the Markov chain construction](#before_starting)\n",
    "    + [Parameters related to the planet and its host star](#planet_star)\n",
    "    + [Parameters related to the emcee Affine invariant sampler](#sampler_parameters)\n",
    "  3. [Our first MCMC run](#first_run)   \n",
    "    + [Instantiation](#instantiation)\n",
    "    + [Let's go !](#lets_go)\n",
    "    + [Visualizing the results](#wlak_corner)\n",
    "    + [Saving the results](#saving)\n",
    "    + [Summary](#summary)\n",
    "3. [A more in depth use](#more_indepth)\n",
    "    + [Initialization](#initialization)\n",
    "    + [Let's go for a test !](#lets_go_test)\n",
    "4. [Performing a real run](#real_run)\n",
    "    + [More things to discuss](#more_things)\n",
    "    + [Improving the convergence](#convergence)\n",
    "    + [Let's go for a real run !](#lets_go_real_run)\n",
    "5. [The AISamplerResults object](#aisamplerresults)  \n",
    "\n"
   ]
  },
  {
   "cell_type": "markdown",
   "metadata": {},
   "source": [
    "## Import\n",
    "\n",
    "Whatever part of the notebook you plan to execute, you better first run this cell."
   ]
  },
  {
   "cell_type": "code",
   "execution_count": null,
   "metadata": {},
   "outputs": [],
   "source": [
    "from PyAstrOFit import Sampler\n",
    "import numpy as np\n",
    "\n",
    "%matplotlib inline \n",
    "%load_ext autoreload\n",
    "%autoreload 2"
   ]
  },
  {
   "cell_type": "markdown",
   "metadata": {},
   "source": [
    "## Basic Usage <a id='basic_usage'></a> "
   ]
  },
  {
   "cell_type": "markdown",
   "metadata": {},
   "source": [
    "If you want to quickly have a general idea of the $\\beta$ Pic b orbit parameters, you would do something like (< 1min):"
   ]
  },
  {
   "cell_type": "code",
   "execution_count": null,
   "metadata": {
    "scrolled": false
   },
   "outputs": [],
   "source": [
    "sampler = Sampler.AISampler(data='betapicb', priors={'starMass' : 1.74,'starDistance' : 19.3})\n",
    "\n",
    "mcmc_results = sampler.run_mcmc(nwalkers = 200,limit = 300)\n",
    "\n",
    "mcmc_results.showWalk()\n",
    "mcmc_results.showPDFCorner()"
   ]
  },
  {
   "cell_type": "markdown",
   "metadata": {},
   "source": [
    "Of course, the result is not satisfactory for a \"real\" orbital fitting. But it constitutes a first insight into the operation of this module. A more complete example is available in the [Quickstart](#quickstart) section."
   ]
  },
  {
   "cell_type": "markdown",
   "metadata": {},
   "source": [
    "## Quickstart <a id='quickstart'></a> "
   ]
  },
  {
   "cell_type": "markdown",
   "metadata": {},
   "source": [
    "The easiest way to get started with using PyAstrOFit.Sampler is to use it. With this in mind, here is an annotated example that demonstrates a basic use of the package.\n",
    "A more complete documentation is presented in section [A more in depth use](#more_indepth)  "
   ]
  },
  {
   "cell_type": "markdown",
   "metadata": {},
   "source": [
    "### Import <a id='import'></a> \n",
    "\n",
    "For those who have forgotten to run the very first cell :-)"
   ]
  },
  {
   "cell_type": "code",
   "execution_count": null,
   "metadata": {},
   "outputs": [],
   "source": [
    "from PyAstrOFit import Sampler\n",
    "import numpy as np\n",
    "\n",
    "#To show up inline matplotlib graphics\n",
    "%matplotlib inline "
   ]
  },
  {
   "cell_type": "markdown",
   "metadata": {},
   "source": [
    "### Before starting the Markov chain construction <a id='before_starting'></a> "
   ]
  },
  {
   "cell_type": "markdown",
   "metadata": {},
   "source": [
    "Before starting the MCMC run, we need to define few parameters. There are two types of parameters:\n",
    "\n",
    "+ Those related to the planet and its host star\n",
    "+ Those related to the sampler"
   ]
  },
  {
   "cell_type": "markdown",
   "metadata": {},
   "source": [
    "#### Parameters related to the planet and its host star <a id='planet_star'></a> "
   ]
  },
  {
   "cell_type": "markdown",
   "metadata": {},
   "source": [
    "Here, we define some priors related to the planet and its host star, that is to say:\n",
    "+ the star-planet mass $M$ in solar masses $M_\\odot$\n",
    "+ its distance $d$ from the Earth in parsec\n",
    "+ an orbital parameter first guess $\\vec{p}_0 = [a, e, i, \\Omega, \\omega, t_\\omega]$ (dimension = [A.U.,None,deg,deg,JD])\n",
    "+ any knowledge on the parameter bounds\n",
    "\n",
    "The first guess $\\vec{p}_0$ shoud be a priori preferred set of parameters, even if the rest of the parameter space will be explored. In the absence of any specific knowledge, you may set the *prior_model* to *None*. This also applies to *bounds*. In all cases, the keys *starMass* and *starDistance* are mandatory. "
   ]
  },
  {
   "cell_type": "code",
   "execution_count": null,
   "metadata": {},
   "outputs": [],
   "source": [
    "p0 = np.array([8.42,0.07,89.04,31.87,338.25,2452353.32])\n",
    "bounds = np.array([[3,20],[0,0.5],[80,110],[0,360],[0,360],[p0[5]-365*200,p0[5]+365*200]]) \n",
    "\n",
    "priors = {'starMass' : 1.75, \n",
    "          'starDistance' : 19.3,\n",
    "          'prior_model' : p0,\n",
    "          'bounds' : bounds}  "
   ]
  },
  {
   "cell_type": "markdown",
   "metadata": {},
   "source": [
    "We also need a file which contains all the planet positions (and the corresponding 1-$\\sigma$ confidence intervals) at given observation dates. The package already contains these files for the planets $\\beta$ Pic b and HR8799bcde. Of course, you can use your own data file. Let's try with $\\beta$ Pic b."
   ]
  },
  {
   "cell_type": "code",
   "execution_count": null,
   "metadata": {},
   "outputs": [],
   "source": [
    "data = 'betapicb' # By giving 'betapicb', the data for betapicb will be automatically loaded.\n",
    "                  # The txt file can be located in the folder \"PyAstrOFit/res/exo/betapicb.txt\".\n",
    "                  # To load its own data file, just give the relative path, for instance\n",
    "                  # data = 'myData/krypton.txt'"
   ]
  },
  {
   "cell_type": "markdown",
   "metadata": {},
   "source": [
    "#### Parameters related to the emcee Affine invariant sampler <a id='sampler_parameters'></a> "
   ]
  },
  {
   "cell_type": "markdown",
   "metadata": {},
   "source": [
    "Here, we define the basic parameters required to start a MCMC run, that is to say:\n",
    "+ The number of walkers\n",
    "+ The maximum number of steps per walker (to prevent too long run or to make some test)\n",
    "\n",
    "For our example, we will run with 200 walkers and stop after 300 steps per walker. "
   ]
  },
  {
   "cell_type": "code",
   "execution_count": null,
   "metadata": {},
   "outputs": [],
   "source": [
    "nwalkers, limit = (200, 300)"
   ]
  },
  {
   "cell_type": "markdown",
   "metadata": {},
   "source": [
    "### Our first MCMC run <a id='first_run'></a> "
   ]
  },
  {
   "cell_type": "markdown",
   "metadata": {},
   "source": [
    "##### Instantiation <a id='instantiation'></a> "
   ]
  },
  {
   "cell_type": "markdown",
   "metadata": {},
   "source": [
    " Now, we instanciate an Affine invariant Ensemble sampler object. At the moment, the MCMC work is done on the parameter $[a, e, i, \\Omega, \\omega, t_\\omega]$."
   ]
  },
  {
   "cell_type": "code",
   "execution_count": null,
   "metadata": {},
   "outputs": [],
   "source": [
    "sampler = Sampler.AISampler(data, priors)"
   ]
  },
  {
   "cell_type": "markdown",
   "metadata": {},
   "source": [
    "##### Let's go ! <a id='lets_go'></a> "
   ]
  },
  {
   "cell_type": "markdown",
   "metadata": {},
   "source": [
    "We will start our first MCMC run by calling the 'run_mcmc' method. It should take around 30 seconds. When verbose = True, progress messages are displayed in the shell. We will not comment that part now. Let's just start the MCMC."
   ]
  },
  {
   "cell_type": "code",
   "execution_count": null,
   "metadata": {
    "scrolled": false
   },
   "outputs": [],
   "source": [
    "mcmc_results = sampler.run_mcmc(nwalkers = nwalkers, limit = limit, verbose = True)"
   ]
  },
  {
   "cell_type": "markdown",
   "metadata": {},
   "source": [
    "The method 'run_mcmc' returns an object instance which contains all the results and the input parameters. Then, you can run as many run_mcmc method as you want and keep the results separate. For example:\n",
    "\n",
    "mcmc_results_200 = sampler.run_mcmc(nwalkers = 200,\n",
    "                                    limit = limit,\n",
    "                                    verbose = True)\n",
    "                                    \n",
    "mcmc_results_500 = sampler.run_mcmc(nwalkers = 500,\n",
    "                                    limit = limit,\n",
    "                                    verbose = True)                                    "
   ]
  },
  {
   "cell_type": "markdown",
   "metadata": {},
   "source": [
    "During the run, we can follow the progress of the Markov chain construction by displaying the so-called \"walk plot\". You just have to pass the parameter showWalk = True.\n",
    "If desired, the figure can be save with PDF format (in that case, the figure will not be displayed)."
   ]
  },
  {
   "cell_type": "markdown",
   "metadata": {},
   "source": [
    "##### Visualizing the results <a id='walk_corner'></a> "
   ]
  },
  {
   "cell_type": "code",
   "execution_count": null,
   "metadata": {
    "scrolled": false
   },
   "outputs": [],
   "source": [
    "mcmc_results.showWalk(save = False)"
   ]
  },
  {
   "cell_type": "markdown",
   "metadata": {
    "collapsed": true
   },
   "source": [
    "We can also display the so-called \"corner plot\" which shows (when the convergence is reached) the marginalized probability distributions and the correponding correlation between various parameters. In our case, the convergence isn't reached. Therefore, the corner plot only represents histograms which show the current frequency of occurences. \n",
    "\n",
    "If desired, the figure can be save with PDF format (in that case, the figure will not be displayed)."
   ]
  },
  {
   "cell_type": "code",
   "execution_count": null,
   "metadata": {
    "scrolled": false
   },
   "outputs": [],
   "source": [
    "mcmc_results.showPDFCorner(save = False)"
   ]
  },
  {
   "cell_type": "markdown",
   "metadata": {},
   "source": [
    "##### Saving the results <a id='saving'></a> "
   ]
  },
  {
   "cell_type": "markdown",
   "metadata": {
    "collapsed": true
   },
   "source": [
    "For future use, the Markov chain can be saved either in a txt file or by \"pickling\"."
   ]
  },
  {
   "cell_type": "code",
   "execution_count": null,
   "metadata": {},
   "outputs": [],
   "source": [
    "mcmc_results.save_pickle(output='betaPicb_MarkovChain')"
   ]
  },
  {
   "cell_type": "markdown",
   "metadata": {
    "collapsed": true
   },
   "source": [
    "## A more in depth use <a id='more_indepth'></a>  "
   ]
  },
  {
   "cell_type": "markdown",
   "metadata": {},
   "source": [
    "We will present here a more in depth use of PyAstrOFit.Sampler. Let's continue with $\\beta$ Pic b."
   ]
  },
  {
   "cell_type": "markdown",
   "metadata": {},
   "source": [
    "### Initialization <a id='initialization'></a> "
   ]
  },
  {
   "cell_type": "markdown",
   "metadata": {},
   "source": [
    "We still start by importing the package and initializating few previously met parameters. Then, we instantiate an Affine invariant Ensemble sampler object."
   ]
  },
  {
   "cell_type": "code",
   "execution_count": null,
   "metadata": {},
   "outputs": [],
   "source": [
    "from PyAstrOFit import Sampler\n",
    "import numpy as np\n",
    "\n",
    "#To show up inline matplotlib graphics\n",
    "%matplotlib inline \n",
    "\n",
    "# Priors, knowledge and data\n",
    "p0 = np.array([8.42,0.07,89.04,31.87,338.25,2452353.32])\n",
    "bounds = np.array([[3,20],[0,0.5],[80,110],[0,360],[0,360],[p0[5]-365*200,p0[5]+365*200]]) \n",
    "priors = {'starMass' : 1.75, 'starDistance' : 19.3, 'prior_model' : p0, 'bounds' : bounds}  \n",
    "data = 'betapicb'\n",
    "\n",
    "sampler = Sampler.AISampler(data, priors)\n",
    "nwalkers = 200"
   ]
  },
  {
   "cell_type": "markdown",
   "metadata": {
    "collapsed": true
   },
   "source": [
    "We can take a look at the data before starting the mcmc. For that, we can use the method showData(): "
   ]
  },
  {
   "cell_type": "code",
   "execution_count": null,
   "metadata": {
    "scrolled": false
   },
   "outputs": [],
   "source": [
    "sampler.showData()\n",
    "sampler.showData(prior_model = True, lim=[[-0.25,-0.1],[-0.4,-0.25]]) "
   ]
  },
  {
   "cell_type": "markdown",
   "metadata": {
    "collapsed": true
   },
   "source": [
    "Before starting the MCMC run, we define new optional parameters related to the method *run_mcmc*.\n",
    "\n",
    " + *a*: The proposal scale parameter. The default value is 2.0. This parameter has a direct impact on the acceptance rate.\n",
    " \n",
    " \n",
    " + *threads*: The number of threads you want to use for multiprocessing. If threads is set to -1, all the available CPUs will be automatically used for the run.\n",
    "\n",
    " \n",
    " + *burnin*: The fraction of walkers which is automatically discarded during the non-convergence statistical test. Default: 0.5.\n",
    "\n",
    "\n",
    " + *itermin*: Steps per walker lower bound. The simulation will run at least this number of steps per walker before starting any non-convergence statistical test. Let us note that *limit* must be greater than *itermin*.\n",
    " \n",
    " \n",
    " + *supp*: Number of extra steps per walker you want to run after having reached the convergence. Default: 0.\n",
    " \n",
    " \n",
    " + *maxgap*: Maximum number of steps per walker between two non-convergence statistical test.\n",
    " \n",
    " \n",
    " + *fraction*: The number $N_j$ of steps per walker when the $j$-th non-convergence statistical test is performed automatically increases with the Markov chain. The number of steps $N_{j+1}$ per walker when the next ($j+1$-th) non-convergence test is performed is defined as follow: $N_{j+1} = N_{j} \\times (1 + $ *fraction*$)$. For example, for the case of the size of a walker equals $1000$ when the $j$-th non-convergence statistical test is performed and  *fraction* is set to $0.5$, the next tests will be performed when the walker will contain respectively $N_{j+1}=1500$ steps, $N_{j+2}=2250$ steps, $N_{j+3}=3375$ steps, and so on until $N \\geq$ *maxgap*. Then, $N$ is set to *maxgap*. More generally, we have $N_{j+k} = N_j \\times (1 + $ *fraction*$)^k$ if $N_{j+k} <$ *maxgap*, otherwise $N_{j+k} =$ *maxgap*. "
   ]
  },
  {
   "cell_type": "markdown",
   "metadata": {},
   "source": [
    "### Let's go for a test !<a id='lets_go_test'></a> "
   ]
  },
  {
   "cell_type": "markdown",
   "metadata": {},
   "source": [
    "We are ready to start the MCMC run. Let us note that we have increased the *limit* up to 2000. When using 4 CPUs, the total duration should be < 2 min. "
   ]
  },
  {
   "cell_type": "code",
   "execution_count": null,
   "metadata": {
    "scrolled": false
   },
   "outputs": [],
   "source": [
    "mcmc_results = sampler.run_mcmc(nwalkers = nwalkers,\n",
    "                                a = 2.0,\n",
    "                                burnin = 0.5,\n",
    "                                itermin = 100,\n",
    "                                limit = 600,\n",
    "                                supp = 0,\n",
    "                                fraction = 0.5,\n",
    "                                maxgap = 1000,\n",
    "                                threads = -1,\n",
    "                                output = 'results/betapicb_today/',\n",
    "                                verbose = True,\n",
    "                                showWalk = True)"
   ]
  },
  {
   "cell_type": "markdown",
   "metadata": {
    "collapsed": true
   },
   "source": [
    "## Performing a real run <a id='real_run'></a> "
   ]
  },
  {
   "cell_type": "markdown",
   "metadata": {},
   "source": [
    "### More things to discuss <a id='more_things'></a> "
   ]
  },
  {
   "cell_type": "markdown",
   "metadata": {},
   "source": [
    "In a \"real\" case, there are at least three more things to do:\n",
    "\n",
    "1. Increase the number of walkers. More is better! But, too many walkers will slow down the run. \n",
    "\n",
    "2. Let the run continue until the chain reaches the \"convergence\". The adopted non-convergence statistical test is the Gelman-Rubin $\\hat{R}$ statistic (see Gelman et al. 2003). This test compares the variance of any quantity $x$ estimated from each of the individual chains (resp. chain) to the variance of the estimates of the mean $x$ from the different chains (resp. part of the chain)(Ford 2006). We have adopted the second solution, that is to say the $\\hat{R}$ is calculated between two sub-chains, respectively $[\\text{burnin},\\text{burnin}+(1-\\text{burnin})/4]$ and $[1-(1-\\text{burnin})/4,1]$ parts of the main flattened chain. For example, if *burnin* is set to $0.5$, the sub-chains will be $[0.5, 0.625]$ and $[0.875, 1]$. As the Markov chain approaches convergence, $\\hat{R}(p_i)$ approaches 1 from above. We can define two more parameters related to this statistical test:\n",
    "\n",
    "    + *grThreshold*: The Gelman-Rubin threshold used for the non-convergence statistical test. A specific value can be given for any parameters (6 in total). Default: 1.01.\n",
    " \n",
    "    + *grCountThreshold*: The Gelman-Rubin test must be satisfied that number of times in a row before claiming that the chain has converged. Default: 3.\n",
    "    \n",
    "3. Save the result in file for future analysis. To this aim, we have the method save_pickle()."
   ]
  },
  {
   "cell_type": "markdown",
   "metadata": {},
   "source": [
    "### Improving the convergence <a id='convergence'></a>"
   ]
  },
  {
   "cell_type": "markdown",
   "metadata": {},
   "source": [
    "Until now, the work has been done on the parameter $\\vec{p} = [a, e, i, \\Omega, \\omega, t_\\omega]$ with a uniform prior distribution. Following Ford (2006), Chauvin et al. (2012) and Pueyo et al. (2015), we can assume the prior distribution to be uniform in $\\vec{u}(\\vec{p}) = [\\log{P}, e, \\cos(i), \\omega+\\Omega, \\omega-\\Omega, t_\\omega]$ and work directly on these parameters. For that, we have to change the attribut synthetic to True."
   ]
  },
  {
   "cell_type": "markdown",
   "metadata": {},
   "source": [
    "### Let's go for a real run ! <a id='lets_go_real_run'></a>"
   ]
  },
  {
   "cell_type": "markdown",
   "metadata": {},
   "source": [
    "Finally, if you want to constrain the β Pic b orbit parameters, you would do something like (nwalkers = 2000, limit = 40000 ==> ~40min). Currently, nwalkers=200, limit=500, but you can modify it, it's up to you:"
   ]
  },
  {
   "cell_type": "code",
   "execution_count": null,
   "metadata": {
    "scrolled": false
   },
   "outputs": [],
   "source": [
    "from PyAstrOFit import Sampler\n",
    "import numpy as np\n",
    "\n",
    "#To show up inline matplotlib graphics\n",
    "%matplotlib inline \n",
    "\n",
    "# Priors, knowledge and data\n",
    "#p0 = np.array([8.42,0.07,89.04,31.87,338.25,2452353.32])\n",
    "#bounds = np.array([[3,20],[0,0.5],[80,110],[0,360],[0,360],[p0[5]-365*200,p0[5]+365*200]]) \n",
    "#priors = {'starMass' : 1.75,'starDistance' : 19.3,'prior_model' : p0,'bounds' : bounds}  \n",
    "#data = 'betapicb'\n",
    "\n",
    "p0 = np.array([  6.67731314e+01,   1.82649678e-02,   2.07066142e+01, 5.45229235e+01,   1.75255259e+02,   2.52963697e+06])\n",
    "bounds = np.array([[50,80],[0,0.5],[0,180],[0,360],[0,360],[p0[5]-365*200,p0[5]+365*200]]) \n",
    "priors = {'starMass' : 1.51,'starDistance' : 39.4,'prior_model' : p0,'bounds' : bounds}  \n",
    "data = 'hr8799b'\n",
    "\n",
    "sampler = Sampler.AISampler(data, priors)\n",
    "\n",
    "# Parameters\n",
    "nwalkers, itermin, limit = (200, 100, 500)\n",
    "output = 'results/test_20151012/'            \n",
    "\n",
    "# Let's go!\n",
    "mcmc_results = sampler.run_mcmc(nwalkers = nwalkers,\n",
    "                                 a = 2.0,\n",
    "                                 burnin = 0.5,\n",
    "                                 itermin = itermin,\n",
    "                                 limit = limit,\n",
    "                                 supp = 0,\n",
    "                                 fraction = 0.5,\n",
    "                                 maxgap = 1000,\n",
    "                                 grThreshold = np.array([1.01,1.01,1.01,1.01,1.01,1.01]),\n",
    "                                 grCountThreshold = 3,\n",
    "                                 synthetic = True,\n",
    "                                 threads = -1,\n",
    "                                 output = output,\n",
    "                                 verbose = True,\n",
    "                                 showWalk = True,\n",
    "                                 temporary=True)\n",
    "# Display and save\n",
    "#mcmc_results.showWalk()\n",
    "#mcmc_results.showPDFCorner()\n",
    "mcmc_results.save_pickle()"
   ]
  },
  {
   "cell_type": "code",
   "execution_count": null,
   "metadata": {},
   "outputs": [],
   "source": [
    "mcmc_results.chain[0,0,:], mcmc_results.lnprobability[0,0]"
   ]
  },
  {
   "cell_type": "code",
   "execution_count": null,
   "metadata": {
    "scrolled": true
   },
   "outputs": [],
   "source": [
    "mcmc_results.input_parameters"
   ]
  },
  {
   "cell_type": "markdown",
   "metadata": {
    "collapsed": true
   },
   "source": [
    "## The AISamplerResults object <a id='aisamplerresults'></a>"
   ]
  },
  {
   "cell_type": "markdown",
   "metadata": {},
   "source": [
    "All the results returned and parameters used by the run_mcmc() method are containted in the mcmc_results. "
   ]
  },
  {
   "cell_type": "code",
   "execution_count": null,
   "metadata": {},
   "outputs": [],
   "source": [
    "print 'The chain shape is {}.'.format(mcmc_results.chain.shape)\n",
    "print 'This corresponds to {} walkers of {} steps for {} parameters.'.format(mcmc_results.chain.shape[0],mcmc_results.chain.shape[1],mcmc_results.chain.shape[2])\n",
    "\n",
    "print ''\n",
    "print 'All the input_parameters:'\n",
    "print mcmc_results.input_parameters\n",
    "\n",
    "print ''\n",
    "print 'All the sampler_parameters:'\n",
    "print mcmc_results.sampler_parameters\n",
    "\n",
    "print ''\n",
    "print 'All the sampler_parameters:'\n",
    "print mcmc_results.internal_parameters"
   ]
  },
  {
   "cell_type": "code",
   "execution_count": null,
   "metadata": {},
   "outputs": [],
   "source": []
  }
 ],
 "metadata": {
  "kernelspec": {
   "display_name": "Python 2",
   "language": "python",
   "name": "python2"
  },
  "language_info": {
   "codemirror_mode": {
    "name": "ipython",
    "version": 2
   },
   "file_extension": ".py",
   "mimetype": "text/x-python",
   "name": "python",
   "nbconvert_exporter": "python",
   "pygments_lexer": "ipython2",
   "version": "2.7.14"
  }
 },
 "nbformat": 4,
 "nbformat_minor": 1
}
